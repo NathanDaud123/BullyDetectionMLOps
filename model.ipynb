{
 "cells": [
  {
   "cell_type": "markdown",
   "id": "51dc929c-69d1-47a5-ac85-584e98086688",
   "metadata": {},
   "source": [
    "## Importing files and dataset preview"
   ]
  },
  {
   "cell_type": "code",
   "execution_count": 13,
   "id": "deb6e902-c53a-41f6-9e95-60badf153d67",
   "metadata": {},
   "outputs": [],
   "source": [
    "import pandas as pd\n",
    "from sklearn.model_selection import train_test_split\n",
    "from sklearn.feature_extraction.text import TfidfVectorizer\n",
    "from sklearn.linear_model import LogisticRegression\n",
    "from sklearn.metrics import accuracy_score, classification_report, precision_score, recall_score, f1_score\n",
    "import mlflow\n",
    "import mlflow.sklearn"
   ]
  },
  {
   "cell_type": "code",
   "execution_count": 5,
   "id": "70e2f8d0-cb7c-4796-a789-c0dc5c27bb88",
   "metadata": {},
   "outputs": [
    {
     "data": {
      "text/html": [
       "<div>\n",
       "<style scoped>\n",
       "    .dataframe tbody tr th:only-of-type {\n",
       "        vertical-align: middle;\n",
       "    }\n",
       "\n",
       "    .dataframe tbody tr th {\n",
       "        vertical-align: top;\n",
       "    }\n",
       "\n",
       "    .dataframe thead th {\n",
       "        text-align: right;\n",
       "    }\n",
       "</style>\n",
       "<table border=\"1\" class=\"dataframe\">\n",
       "  <thead>\n",
       "    <tr style=\"text-align: right;\">\n",
       "      <th></th>\n",
       "      <th>index</th>\n",
       "      <th>Text</th>\n",
       "      <th>ed_label_0</th>\n",
       "      <th>ed_label_1</th>\n",
       "      <th>oh_label</th>\n",
       "    </tr>\n",
       "  </thead>\n",
       "  <tbody>\n",
       "    <tr>\n",
       "      <th>0</th>\n",
       "      <td>0</td>\n",
       "      <td>`- This is not ``creative``.  Those are the di...</td>\n",
       "      <td>1.000000</td>\n",
       "      <td>0.000000</td>\n",
       "      <td>0</td>\n",
       "    </tr>\n",
       "    <tr>\n",
       "      <th>1</th>\n",
       "      <td>1</td>\n",
       "      <td>`  :: the term ``standard model`` is itself le...</td>\n",
       "      <td>1.000000</td>\n",
       "      <td>0.000000</td>\n",
       "      <td>0</td>\n",
       "    </tr>\n",
       "    <tr>\n",
       "      <th>2</th>\n",
       "      <td>2</td>\n",
       "      <td>True or false, the situation as of March 200...</td>\n",
       "      <td>1.000000</td>\n",
       "      <td>0.000000</td>\n",
       "      <td>0</td>\n",
       "    </tr>\n",
       "    <tr>\n",
       "      <th>3</th>\n",
       "      <td>3</td>\n",
       "      <td>Next, maybe you could work on being less cond...</td>\n",
       "      <td>0.555556</td>\n",
       "      <td>0.444444</td>\n",
       "      <td>0</td>\n",
       "    </tr>\n",
       "    <tr>\n",
       "      <th>4</th>\n",
       "      <td>4</td>\n",
       "      <td>This page will need disambiguation.</td>\n",
       "      <td>1.000000</td>\n",
       "      <td>0.000000</td>\n",
       "      <td>0</td>\n",
       "    </tr>\n",
       "    <tr>\n",
       "      <th>...</th>\n",
       "      <td>...</td>\n",
       "      <td>...</td>\n",
       "      <td>...</td>\n",
       "      <td>...</td>\n",
       "      <td>...</td>\n",
       "    </tr>\n",
       "    <tr>\n",
       "      <th>115859</th>\n",
       "      <td>115859</td>\n",
       "      <td>`   These sources don't exactly exude a sense ...</td>\n",
       "      <td>0.888889</td>\n",
       "      <td>0.111111</td>\n",
       "      <td>0</td>\n",
       "    </tr>\n",
       "    <tr>\n",
       "      <th>115860</th>\n",
       "      <td>115860</td>\n",
       "      <td>The Institute for Historical Review is a pee...</td>\n",
       "      <td>0.900000</td>\n",
       "      <td>0.100000</td>\n",
       "      <td>0</td>\n",
       "    </tr>\n",
       "    <tr>\n",
       "      <th>115861</th>\n",
       "      <td>115861</td>\n",
       "      <td>:The way you're trying to describe it in this...</td>\n",
       "      <td>1.000000</td>\n",
       "      <td>0.000000</td>\n",
       "      <td>0</td>\n",
       "    </tr>\n",
       "    <tr>\n",
       "      <th>115862</th>\n",
       "      <td>115862</td>\n",
       "      <td>== Warning ==  There is clearly a protection...</td>\n",
       "      <td>0.800000</td>\n",
       "      <td>0.200000</td>\n",
       "      <td>0</td>\n",
       "    </tr>\n",
       "    <tr>\n",
       "      <th>115863</th>\n",
       "      <td>115863</td>\n",
       "      <td>Alternate option=== Is there perhaps enough ne...</td>\n",
       "      <td>1.000000</td>\n",
       "      <td>0.000000</td>\n",
       "      <td>0</td>\n",
       "    </tr>\n",
       "  </tbody>\n",
       "</table>\n",
       "<p>115864 rows × 5 columns</p>\n",
       "</div>"
      ],
      "text/plain": [
       "         index                                               Text  ed_label_0  \\\n",
       "0            0  `- This is not ``creative``.  Those are the di...    1.000000   \n",
       "1            1  `  :: the term ``standard model`` is itself le...    1.000000   \n",
       "2            2    True or false, the situation as of March 200...    1.000000   \n",
       "3            3   Next, maybe you could work on being less cond...    0.555556   \n",
       "4            4               This page will need disambiguation.     1.000000   \n",
       "...        ...                                                ...         ...   \n",
       "115859  115859  `   These sources don't exactly exude a sense ...    0.888889   \n",
       "115860  115860    The Institute for Historical Review is a pee...    0.900000   \n",
       "115861  115861   :The way you're trying to describe it in this...    1.000000   \n",
       "115862  115862    == Warning ==  There is clearly a protection...    0.800000   \n",
       "115863  115863  Alternate option=== Is there perhaps enough ne...    1.000000   \n",
       "\n",
       "        ed_label_1  oh_label  \n",
       "0         0.000000         0  \n",
       "1         0.000000         0  \n",
       "2         0.000000         0  \n",
       "3         0.444444         0  \n",
       "4         0.000000         0  \n",
       "...            ...       ...  \n",
       "115859    0.111111         0  \n",
       "115860    0.100000         0  \n",
       "115861    0.000000         0  \n",
       "115862    0.200000         0  \n",
       "115863    0.000000         0  \n",
       "\n",
       "[115864 rows x 5 columns]"
      ]
     },
     "execution_count": 5,
     "metadata": {},
     "output_type": "execute_result"
    }
   ],
   "source": [
    "df = pd.read_csv('dataset/attack_parsed_dataset.csv')\n",
    "df"
   ]
  },
  {
   "cell_type": "markdown",
   "id": "0a22dd6f-1217-4349-a156-8c036f1ac844",
   "metadata": {},
   "source": [
    "**Ml Flow**"
   ]
  },
  {
   "cell_type": "code",
   "execution_count": 23,
   "id": "68924d56-4ff4-43ba-8a73-06b84f105cf1",
   "metadata": {},
   "outputs": [
    {
     "data": {
      "text/plain": [
       "<Experiment: artifact_location='file:///C:/College/Matkul%20Kuliah%20dan%20Tugas/MLOPS/final_project_jupyter/mlruns/232707165053857446', creation_time=1731280035151, experiment_id='232707165053857446', last_update_time=1731280035151, lifecycle_stage='active', name='Cyberbullying Detection Experiment', tags={}>"
      ]
     },
     "execution_count": 23,
     "metadata": {},
     "output_type": "execute_result"
    }
   ],
   "source": [
    "# Start MLflow experiment\n",
    "mlflow.set_experiment(\"Cyberbullying Detection Experiment\")"
   ]
  },
  {
   "cell_type": "code",
   "execution_count": 24,
   "id": "245f5dc8-afba-4cb1-adf0-1949bd48bb4e",
   "metadata": {},
   "outputs": [
    {
     "name": "stderr",
     "output_type": "stream",
     "text": [
      "2024/11/11 09:41:37 WARNING mlflow.models.model: Model logged without a signature and input example. Please set `input_example` parameter when logging the model to auto infer the model signature.\n",
      "2024/11/11 09:41:37 WARNING mlflow.sklearn: Model was missing function: predict. Not logging python_function flavor!\n",
      "2024/11/11 09:41:40 WARNING mlflow.models.model: Model logged without a signature and input example. Please set `input_example` parameter when logging the model to auto infer the model signature.\n"
     ]
    },
    {
     "name": "stdout",
     "output_type": "stream",
     "text": [
      "Accuracy: 0.9446\n",
      "Classification Report:\n",
      "              precision    recall  f1-score   support\n",
      "\n",
      "           0       0.95      0.99      0.97     20465\n",
      "           1       0.89      0.60      0.72      2708\n",
      "\n",
      "    accuracy                           0.94     23173\n",
      "   macro avg       0.92      0.80      0.84     23173\n",
      "weighted avg       0.94      0.94      0.94     23173\n",
      "\n"
     ]
    }
   ],
   "source": [
    "# Select relevant columns\n",
    "X = df['Text']  # Feature: text\n",
    "y = df['oh_label']  # Target: oh_label (1 for attack, 0 for not attack)\n",
    "\n",
    "# Split the data into training and test sets\n",
    "X_train, X_test, y_train, y_test = train_test_split(X, y, test_size=0.2, random_state=42)\n",
    "\n",
    "# Convert text data into TF-IDF features\n",
    "tfidf = TfidfVectorizer(stop_words='english', max_features=5000)  # Using TF-IDF for text representation\n",
    "X_train_tfidf = tfidf.fit_transform(X_train)\n",
    "X_test_tfidf = tfidf.transform(X_test)\n",
    "\n",
    "with mlflow.start_run():\n",
    "    # Define and train a simple Logistic Regression model\n",
    "    model = LogisticRegression()\n",
    "    model.fit(X_train_tfidf, y_train)\n",
    "\n",
    "    # Make predictions\n",
    "    y_pred = model.predict(X_test_tfidf)\n",
    "\n",
    "    # Calculate metrics\n",
    "    accuracy = accuracy_score(y_test, y_pred)\n",
    "    precision = precision_score(y_test, y_pred)\n",
    "    recall = recall_score(y_test, y_pred)\n",
    "    f1 = f1_score(y_test, y_pred)\n",
    "    \n",
    "    # Log parameters\n",
    "    mlflow.log_param(\"model\", \"LogisticRegression\")\n",
    "    mlflow.log_param(\"max_features\", 5000)\n",
    "    mlflow.log_param(\"test_size\", 0.2)\n",
    "\n",
    "    # Log metrics\n",
    "    mlflow.log_metric(\"accuracy\", accuracy)\n",
    "    mlflow.log_metric(\"precision\", precision)\n",
    "    mlflow.log_metric(\"recall\", recall)\n",
    "    mlflow.log_metric(\"f1_score\", f1)\n",
    "\n",
    "    # Log the model\n",
    "    mlflow.sklearn.log_model(model, \"logistic_regression_model\")\n",
    "    # log the vectorizer to implement it in streamlit as well\n",
    "    mlflow.sklearn.log_model(tfidf, \"vectorizer\")\n",
    "\n",
    "    # Print the classification report for inspection\n",
    "    print(f'Accuracy: {accuracy:.4f}')\n",
    "    print('Classification Report:')\n",
    "    print(classification_report(y_test, y_pred))"
   ]
  },
  {
   "cell_type": "code",
   "execution_count": 17,
   "id": "b3ecf031-bad7-416d-b32a-424ac1e1d232",
   "metadata": {},
   "outputs": [],
   "source": [
    "model = LogisticRegression()\n",
    "model.fit(X_train_tfidf, y_train)\n",
    "\n",
    "# Make predictions\n",
    "y_pred = model.predict(X_test_tfidf)"
   ]
  }
 ],
 "metadata": {
  "kernelspec": {
   "display_name": "mlops",
   "language": "python",
   "name": "mlops_env"
  },
  "language_info": {
   "codemirror_mode": {
    "name": "ipython",
    "version": 3
   },
   "file_extension": ".py",
   "mimetype": "text/x-python",
   "name": "python",
   "nbconvert_exporter": "python",
   "pygments_lexer": "ipython3",
   "version": "3.9.19"
  }
 },
 "nbformat": 4,
 "nbformat_minor": 5
}
